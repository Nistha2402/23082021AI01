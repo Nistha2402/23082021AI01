{
 "cells": [
  {
   "cell_type": "code",
   "execution_count": 29,
   "metadata": {},
   "outputs": [],
   "source": [
    "import cv2\n",
    "import numpy as np\n",
    "import skimage as ski\n",
    "from skimage import viewer\n",
    "kern = np.ones((3,3), np.uint8)\n",
    "vid = cv2.VideoCapture(0)\n",
    "\n",
    "while True:\n",
    "    ret, frame = vid.read() # this captures live image\n",
    "    \n",
    "# write your code here\n",
    "    img_b = frame[:,:,-3]\n",
    "    img_gray = cv2.cvtColor(frame,cv2.COLOR_BGR2GRAY)\n",
    "    img_yellow = cv2.subtract(img_gray,img_b)\n",
    "    _,img_yellow_bw = cv2.threshold(img_yellow,50,255,cv2.THRESH_BINARY)\n",
    "    img_y_bw_1 = cv2.dilate(img_yellow_bw,kern, iterations=1)\n",
    "    \n",
    "    cv2.imshow('frame', img_y_bw_1)\n",
    "    \n",
    "\n",
    "    # the 'q' button is set as the quit button\n",
    "    if cv2.waitKey(1) & 0xFF == ord('q'):\n",
    "        break\n",
    "\n",
    "vid.release()\n",
    "cv2.destroyAllWindows()"
   ]
  },
  {
   "cell_type": "code",
   "execution_count": null,
   "metadata": {},
   "outputs": [],
   "source": []
  }
 ],
 "metadata": {
  "kernelspec": {
   "display_name": "Python 3",
   "language": "python",
   "name": "python3"
  },
  "language_info": {
   "codemirror_mode": {
    "name": "ipython",
    "version": 3
   },
   "file_extension": ".py",
   "mimetype": "text/x-python",
   "name": "python",
   "nbconvert_exporter": "python",
   "pygments_lexer": "ipython3",
   "version": "3.8.5"
  }
 },
 "nbformat": 4,
 "nbformat_minor": 4
}
